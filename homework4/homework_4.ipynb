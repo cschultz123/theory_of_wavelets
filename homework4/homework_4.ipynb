{
 "cells": [
  {
   "cell_type": "code",
   "execution_count": 40,
   "metadata": {
    "collapsed": false
   },
   "outputs": [
    {
     "name": "stdout",
     "output_type": "stream",
     "text": [
      "[(h1, -sqrt(6)/8 + 3*sqrt(2)/8), (h2, sqrt(6)/8 + 3*sqrt(2)/8), (h3, sqrt(2)/8 + sqrt(6)/8), (h4, -sqrt(6)/8 + sqrt(2)/8)]\n",
      "[(h1, sqrt(6)/8 + 3*sqrt(2)/8), (h2, -sqrt(6)/8 + 3*sqrt(2)/8), (h3, -sqrt(6)/8 + sqrt(2)/8), (h4, sqrt(2)/8 + sqrt(6)/8)]\n"
     ]
    }
   ],
   "source": [
    "from sympy import symbols, conjugate, sqrt, solve, evaluate\n",
    "\n",
    "# declare variables\n",
    "h1, h2, h3, h4 = symbols(\"h1 h2 h3 h4\")\n",
    "\n",
    "# initial constraint\n",
    "eq1 = h1 - 2*h2 + 3*h3  # = 0\n",
    "\n",
    "# wavelet equation 1 and 3\n",
    "eq2 = h1 + h2 + h3 + h4 -sqrt(2)  # = 0\n",
    "\n",
    "# wavelet equation 2\n",
    "eq3 = h1*conjugate(h3) + h2*conjugate(h4)   # = 0\n",
    "\n",
    "# wavelet equation 4\n",
    "eq4 = -h1 + h2 - h3 + h4    # = 0\n",
    "\n",
    "solutions = solve([eq1, eq2, eq3, eq4], [h1, h2, h3, h4])\n",
    "\n",
    "# verify solutions satisfy equations\n",
    "var_list = [h1, h2, h3, h4] \n",
    "for solution in solutions:\n",
    "    par = zip(var_list, solution)\n",
    "    assert eq1.subs(par).evalf(chop=True) == 0 # satisfy eq1\n",
    "    assert eq2.subs(par).evalf(chop=True) == 0 # satisfy eq2\n",
    "    assert eq3.subs(par).evalf(chop=True) == 0 # satisfy eq3\n",
    "    assert eq4.subs(par).evalf(chop=True) == 0 # satisfy eq4\n",
    "    print par # print solution\n"
   ]
  }
 ],
 "metadata": {
  "kernelspec": {
   "display_name": "Python 2",
   "language": "python",
   "name": "python2"
  },
  "language_info": {
   "codemirror_mode": {
    "name": "ipython",
    "version": 2
   },
   "file_extension": ".py",
   "mimetype": "text/x-python",
   "name": "python",
   "nbconvert_exporter": "python",
   "pygments_lexer": "ipython2",
   "version": "2.7.10"
  }
 },
 "nbformat": 4,
 "nbformat_minor": 0
}

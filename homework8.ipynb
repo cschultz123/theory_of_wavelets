{
 "metadata": {
  "name": "",
  "signature": "sha256:4cf328b9019feeb7da0fab46faeba46b2e10aea683c2f869032051cc2bb4496c"
 },
 "nbformat": 3,
 "nbformat_minor": 0,
 "worksheets": [
  {
   "cells": [
    {
     "cell_type": "markdown",
     "metadata": {},
     "source": [
      "$$\\phi_{n+1}(t)=\\sqrt{2}\\sum_{k}^{N-1}\\phi_{n}(2t-k)$$"
     ]
    },
    {
     "cell_type": "code",
     "collapsed": false,
     "input": [
      "%matplotlib inline\n",
      "import matplotlib.pyplot as plt\n",
      "import numpy as np\n",
      "import scipy.signal as sig\n",
      "step = lambda x, n: 0 if (x < 0 or x > 1.0) else 1\n",
      "\n",
      "t_max = 3\n",
      "t_len = t_max*100\n",
      "t = np.linspace(0, 3, 100)\n",
      "\n",
      "phi_0 = \n",
      "\n",
      "for k in range(7):"
     ],
     "language": "python",
     "metadata": {},
     "outputs": [],
     "prompt_number": 40
    }
   ],
   "metadata": {}
  }
 ]
}